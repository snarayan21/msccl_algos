{
 "cells": [
  {
   "cell_type": "markdown",
   "metadata": {},
   "source": [
    "Topologies are modeled in terms of the relative bandwidths of the links. We assume that all per-send latencies are uniform, which is mostly true over NVLinks."
   ]
  },
  {
   "cell_type": "code",
   "execution_count": 24,
   "metadata": {},
   "outputs": [],
   "source": [
    "from msccl.topologies import fully_connected\n",
    "from pprint import pprint\n",
    "num_nodes = 8"
   ]
  },
  {
   "cell_type": "markdown",
   "metadata": {},
   "source": [
    "Make a fully connected topology."
   ]
  },
  {
   "cell_type": "code",
   "execution_count": 38,
   "metadata": {},
   "outputs": [
    {
     "name": "stdout",
     "output_type": "stream",
     "text": [
      "[[0, 1, 1, 1, 1, 1, 1, 1],\n",
      " [1, 0, 1, 1, 1, 1, 1, 1],\n",
      " [1, 1, 0, 1, 1, 1, 1, 1],\n",
      " [1, 1, 1, 0, 1, 1, 1, 1],\n",
      " [1, 1, 1, 1, 0, 1, 1, 1],\n",
      " [1, 1, 1, 1, 1, 0, 1, 1],\n",
      " [1, 1, 1, 1, 1, 1, 0, 1],\n",
      " [1, 1, 1, 1, 1, 1, 1, 0]]\n"
     ]
    }
   ],
   "source": [
    "topology_1 = fully_connected(num_nodes)\n",
    "pprint(topology_1.links)"
   ]
  },
  {
   "cell_type": "markdown",
   "metadata": {},
   "source": [
    "The collective is the specification for where chunks start at and where they need to go. Here we instantiate allgather for this topology."
   ]
  },
  {
   "cell_type": "code",
   "execution_count": 39,
   "metadata": {},
   "outputs": [],
   "source": [
    "from msccl.collectives import allgather, alltoall, reduce_scatter, allreduce\n",
    "collective = allgather(num_nodes)"
   ]
  },
  {
   "cell_type": "markdown",
   "metadata": {},
   "source": [
    "Here is the precondition. We can see that all ranks start with one chunk."
   ]
  },
  {
   "cell_type": "code",
   "execution_count": 40,
   "metadata": {},
   "outputs": [
    {
     "name": "stdout",
     "output_type": "stream",
     "text": [
      "[[1, 0, 0, 0, 0, 0, 0, 0],\n",
      " [0, 1, 0, 0, 0, 0, 0, 0],\n",
      " [0, 0, 1, 0, 0, 0, 0, 0],\n",
      " [0, 0, 0, 1, 0, 0, 0, 0],\n",
      " [0, 0, 0, 0, 1, 0, 0, 0],\n",
      " [0, 0, 0, 0, 0, 1, 0, 0],\n",
      " [0, 0, 0, 0, 0, 0, 1, 0],\n",
      " [0, 0, 0, 0, 0, 0, 0, 1]]\n"
     ]
    }
   ],
   "source": [
    "pprint([[1 if collective.precondition(rank, chunk) else 0 for chunk in range(collective.num_chunks)] for rank in range(collective.num_nodes)])"
   ]
  },
  {
   "cell_type": "markdown",
   "metadata": {},
   "source": [
    "Here is the postcondition. All ranks need to get all chunks."
   ]
  },
  {
   "cell_type": "code",
   "execution_count": 41,
   "metadata": {},
   "outputs": [
    {
     "name": "stdout",
     "output_type": "stream",
     "text": [
      "[[1, 1, 1, 1, 1, 1, 1, 1],\n",
      " [1, 1, 1, 1, 1, 1, 1, 1],\n",
      " [1, 1, 1, 1, 1, 1, 1, 1],\n",
      " [1, 1, 1, 1, 1, 1, 1, 1],\n",
      " [1, 1, 1, 1, 1, 1, 1, 1],\n",
      " [1, 1, 1, 1, 1, 1, 1, 1],\n",
      " [1, 1, 1, 1, 1, 1, 1, 1],\n",
      " [1, 1, 1, 1, 1, 1, 1, 1]]\n"
     ]
    }
   ],
   "source": [
    "pprint([[1 if collective.postcondition(rank, chunk) else 0 for chunk in range(collective.num_chunks)] for rank in range(collective.num_nodes)])"
   ]
  },
  {
   "cell_type": "markdown",
   "metadata": {},
   "source": [
    "Solve latency-bandwidth tradeoffs for both topologies."
   ]
  },
  {
   "cell_type": "code",
   "execution_count": 42,
   "metadata": {},
   "outputs": [
    {
     "name": "stdout",
     "output_type": "stream",
     "text": [
      "Algorithms need at least 1 steps.\n",
      "Algorithms need at least 1 rounds per chunk.\n",
      "Solving instance steps=1... synthesized! (0.2s)\n",
      "Bandwidth optimal algorithm found!\n"
     ]
    }
   ],
   "source": [
    "from msccl.strategies import solve_all_latency_bandwidth_tradeoffs\n",
    "algos_1 = list(solve_all_latency_bandwidth_tradeoffs(topology_1, collective, logging=True))"
   ]
  },
  {
   "cell_type": "markdown",
   "metadata": {},
   "source": [
    "Two preprocessing steps are performed:\n",
    "- The minimum number of steps required is lower bound based on the maximum of the shortest paths for each chunk considering the topology.\n",
    "- A minimum number of rounds per chunk is lower bound using a kind of multi-commodity flow encoding in [rounds_bound.py](../msccl/rounds_bound.py).\n",
    "\n",
    "Then all relevant trade-offs are iterated until a bandwidth optimal algorithm is found (if the rounds per chunk lower bound happens to be exact).\n",
    "\n",
    "The synthesized algorithms contain many non-Pareto-optimal algorithms, which are dominated by some other algorithm for all input sizes. We can filter those out:"
   ]
  },
  {
   "cell_type": "code",
   "execution_count": 43,
   "metadata": {},
   "outputs": [],
   "source": [
    "from msccl.strategies import prune_pareto_optimal\n",
    "algos_1 = prune_pareto_optimal(algos_1)"
   ]
  },
  {
   "cell_type": "markdown",
   "metadata": {},
   "source": [
    "Lets set up a function to analyze the performance of the remaining algorithms. Here we assume that alpha=1 and beta=1."
   ]
  },
  {
   "cell_type": "code",
   "execution_count": 44,
   "metadata": {},
   "outputs": [],
   "source": [
    "from fractions import Fraction\n",
    "def print_perf(size, algos):\n",
    "    print(f'Input size is {size}')\n",
    "    for algo in algos:\n",
    "        print(f'\\n{algo.name}')\n",
    "        chunk_size = Fraction(1, algo.instance.chunks)\n",
    "        print(f'Chunk size:             1/chunks = {chunk_size} = {float(chunk_size)}')\n",
    "        bw_mult = algo.instance.rounds() * chunk_size\n",
    "        print(f'BW multiples:      rounds/chunks = {bw_mult} = {float(bw_mult)}')\n",
    "        time = algo.instance.steps + size * bw_mult\n",
    "        print(f'Time: steps + size*rounds/chunks = {time}')"
   ]
  },
  {
   "cell_type": "markdown",
   "metadata": {},
   "source": [
    "See a rough estimate of performance for a big input."
   ]
  },
  {
   "cell_type": "code",
   "execution_count": 48,
   "metadata": {},
   "outputs": [
    {
     "name": "stdout",
     "output_type": "stream",
     "text": [
      "Input size is 10.0\n",
      "\n",
      "Allgather(n=8)-FullyConnected(n=8)-steps=1\n",
      "Chunk size:             1/chunks = 1 = 1.0\n",
      "BW multiples:      rounds/chunks = 1 = 1.0\n",
      "Time: steps + size*rounds/chunks = 11.0\n"
     ]
    }
   ],
   "source": [
    "print_perf(10.0, algos_1)"
   ]
  },
  {
   "cell_type": "markdown",
   "metadata": {},
   "source": [
    "See a rough estimate of performance for a small input."
   ]
  },
  {
   "cell_type": "code",
   "execution_count": 49,
   "metadata": {},
   "outputs": [
    {
     "name": "stdout",
     "output_type": "stream",
     "text": [
      "Input size is 0.1\n",
      "\n",
      "Allgather(n=8)-FullyConnected(n=8)-steps=1\n",
      "Chunk size:             1/chunks = 1 = 1.0\n",
      "BW multiples:      rounds/chunks = 1 = 1.0\n",
      "Time: steps + size*rounds/chunks = 1.1\n"
     ]
    }
   ],
   "source": [
    "print_perf(0.1, algos_1)"
   ]
  },
  {
   "cell_type": "markdown",
   "metadata": {},
   "source": [
    "Export the algorithm to xml format for loading into msccl."
   ]
  },
  {
   "cell_type": "code",
   "execution_count": 37,
   "metadata": {},
   "outputs": [],
   "source": [
    "from msccl.ncclize import ncclize\n",
    "\n",
    "algo_name = f'topology_allgather_{num_nodes}.xml'\n",
    "with open(algo_name, 'w') as f:\n",
    "    f.write(ncclize(algos_1[0]))"
   ]
  },
  {
   "cell_type": "markdown",
   "metadata": {},
   "source": [
    "Use this command to run the xml files:\n",
    "```\n",
    "mpirun -x MSCCL_XML_FILES=/test.xml --allow-run-as-root -np 8 -x LD_LIBRARY_PATH=/msccl/build/lib/:$LD_LIBRARY_PATH -x NCCL_DEBUG=WARN -x NCCL_DEBUG_SUBSYS=INIT,ENV -x NCCL_ALGO=MSCCL,RING,TREE /nccl-tests/build/all_reduce_perf -b 128 -e 8GB -f 2 -g 1 -c 0 -n 10 -w 10 -G 10 -z 0 \n",
    "```"
   ]
  },
  {
   "cell_type": "markdown",
   "metadata": {},
   "source": []
  },
  {
   "cell_type": "markdown",
   "metadata": {},
   "source": []
  }
 ],
 "metadata": {
  "interpreter": {
   "hash": "31f2aee4e71d21fbe5cf8b01ff0e069b9275f58929596ceb00d14d90e3e16cd6"
  },
  "kernelspec": {
   "display_name": "Python 3.6.9 64-bit",
   "language": "python",
   "name": "python3"
  },
  "language_info": {
   "codemirror_mode": {
    "name": "ipython",
    "version": 3
   },
   "file_extension": ".py",
   "mimetype": "text/x-python",
   "name": "python",
   "nbconvert_exporter": "python",
   "pygments_lexer": "ipython3",
   "version": "3.9.4"
  },
  "orig_nbformat": 4
 },
 "nbformat": 4,
 "nbformat_minor": 2
}
